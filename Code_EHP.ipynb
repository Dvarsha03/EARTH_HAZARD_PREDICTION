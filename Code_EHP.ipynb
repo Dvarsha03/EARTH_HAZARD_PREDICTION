{
 "cells": [
  {
   "cell_type": "code",
   "execution_count": 1,
   "id": "9bc43f65",
   "metadata": {},
   "outputs": [],
   "source": [
    "# Importing the libraries \n",
    "import pandas as pd\n",
    "import numpy as np \n",
    "import matplotlib.pyplot as plt \n",
    "import seaborn as sns\n",
    "%matplotlib inline"
   ]
  },
  {
   "cell_type": "code",
   "execution_count": 2,
   "id": "68b0b52e",
   "metadata": {},
   "outputs": [],
   "source": [
    "# Ignore harmless warnings \n",
    "import warnings \n",
    "warnings.filterwarnings(\"ignore\")"
   ]
  },
  {
   "cell_type": "code",
   "execution_count": 3,
   "id": "7d7f8239",
   "metadata": {},
   "outputs": [],
   "source": [
    "# Set to display all the columns in dataset\n",
    "\n",
    "pd.set_option(\"display.max_columns\", None)\n",
    "\n",
    "# Import psql to run queries \n",
    "\n",
    "import pandasql as psql"
   ]
  },
  {
   "cell_type": "code",
   "execution_count": 4,
   "id": "1bb01ceb",
   "metadata": {},
   "outputs": [
    {
     "data": {
      "text/html": [
       "<div>\n",
       "<style scoped>\n",
       "    .dataframe tbody tr th:only-of-type {\n",
       "        vertical-align: middle;\n",
       "    }\n",
       "\n",
       "    .dataframe tbody tr th {\n",
       "        vertical-align: top;\n",
       "    }\n",
       "\n",
       "    .dataframe thead th {\n",
       "        text-align: right;\n",
       "    }\n",
       "</style>\n",
       "<table border=\"1\" class=\"dataframe\">\n",
       "  <thead>\n",
       "    <tr style=\"text-align: right;\">\n",
       "      <th></th>\n",
       "      <th>id</th>\n",
       "      <th>name</th>\n",
       "      <th>est_diameter_min</th>\n",
       "      <th>est_diameter_max</th>\n",
       "      <th>relative_velocity</th>\n",
       "      <th>miss_distance</th>\n",
       "      <th>orbiting_body</th>\n",
       "      <th>sentry_object</th>\n",
       "      <th>absolute_magnitude</th>\n",
       "      <th>hazardous</th>\n",
       "    </tr>\n",
       "  </thead>\n",
       "  <tbody>\n",
       "    <tr>\n",
       "      <th>0</th>\n",
       "      <td>2162635</td>\n",
       "      <td>162635 (2000 SS164)</td>\n",
       "      <td>1.198271</td>\n",
       "      <td>2.679415</td>\n",
       "      <td>13569.24922</td>\n",
       "      <td>54839744.08</td>\n",
       "      <td>Earth</td>\n",
       "      <td>False</td>\n",
       "      <td>16.73</td>\n",
       "      <td>False</td>\n",
       "    </tr>\n",
       "    <tr>\n",
       "      <th>1</th>\n",
       "      <td>2277475</td>\n",
       "      <td>277475 (2005 WK4)</td>\n",
       "      <td>0.265800</td>\n",
       "      <td>0.594347</td>\n",
       "      <td>73588.72666</td>\n",
       "      <td>61438126.52</td>\n",
       "      <td>Earth</td>\n",
       "      <td>False</td>\n",
       "      <td>20.00</td>\n",
       "      <td>True</td>\n",
       "    </tr>\n",
       "    <tr>\n",
       "      <th>2</th>\n",
       "      <td>2512244</td>\n",
       "      <td>512244 (2015 YE18)</td>\n",
       "      <td>0.722030</td>\n",
       "      <td>1.614507</td>\n",
       "      <td>114258.69210</td>\n",
       "      <td>49798724.94</td>\n",
       "      <td>Earth</td>\n",
       "      <td>False</td>\n",
       "      <td>17.83</td>\n",
       "      <td>False</td>\n",
       "    </tr>\n",
       "    <tr>\n",
       "      <th>3</th>\n",
       "      <td>3596030</td>\n",
       "      <td>(2012 BV13)</td>\n",
       "      <td>0.096506</td>\n",
       "      <td>0.215794</td>\n",
       "      <td>24764.30314</td>\n",
       "      <td>25434972.72</td>\n",
       "      <td>Earth</td>\n",
       "      <td>False</td>\n",
       "      <td>22.20</td>\n",
       "      <td>False</td>\n",
       "    </tr>\n",
       "    <tr>\n",
       "      <th>4</th>\n",
       "      <td>3667127</td>\n",
       "      <td>(2014 GE35)</td>\n",
       "      <td>0.255009</td>\n",
       "      <td>0.570217</td>\n",
       "      <td>42737.73376</td>\n",
       "      <td>46275567.00</td>\n",
       "      <td>Earth</td>\n",
       "      <td>False</td>\n",
       "      <td>20.09</td>\n",
       "      <td>True</td>\n",
       "    </tr>\n",
       "  </tbody>\n",
       "</table>\n",
       "</div>"
      ],
      "text/plain": [
       "        id                 name  est_diameter_min  est_diameter_max  \\\n",
       "0  2162635  162635 (2000 SS164)          1.198271          2.679415   \n",
       "1  2277475    277475 (2005 WK4)          0.265800          0.594347   \n",
       "2  2512244   512244 (2015 YE18)          0.722030          1.614507   \n",
       "3  3596030          (2012 BV13)          0.096506          0.215794   \n",
       "4  3667127          (2014 GE35)          0.255009          0.570217   \n",
       "\n",
       "   relative_velocity  miss_distance orbiting_body  sentry_object  \\\n",
       "0        13569.24922    54839744.08         Earth          False   \n",
       "1        73588.72666    61438126.52         Earth          False   \n",
       "2       114258.69210    49798724.94         Earth          False   \n",
       "3        24764.30314    25434972.72         Earth          False   \n",
       "4        42737.73376    46275567.00         Earth          False   \n",
       "\n",
       "   absolute_magnitude  hazardous  \n",
       "0               16.73      False  \n",
       "1               20.00       True  \n",
       "2               17.83      False  \n",
       "3               22.20      False  \n",
       "4               20.09       True  "
      ]
     },
     "execution_count": 4,
     "metadata": {},
     "output_type": "execute_result"
    }
   ],
   "source": [
    "Ast_data = pd.read_csv(r\"NE_OBJ.csv\", header=0)\n",
    "\n",
    "# Copy the data to back-up file\n",
    "\n",
    "NE_OBJ1 = Ast_data.copy()\n",
    "\n",
    "# Display first five records\n",
    "\n",
    "Ast_data.head()"
   ]
  },
  {
   "cell_type": "code",
   "execution_count": 5,
   "id": "c556e80b",
   "metadata": {},
   "outputs": [
    {
     "name": "stdout",
     "output_type": "stream",
     "text": [
      "<class 'pandas.core.frame.DataFrame'>\n",
      "RangeIndex: 90836 entries, 0 to 90835\n",
      "Data columns (total 10 columns):\n",
      " #   Column              Non-Null Count  Dtype  \n",
      "---  ------              --------------  -----  \n",
      " 0   id                  90836 non-null  int64  \n",
      " 1   name                90836 non-null  object \n",
      " 2   est_diameter_min    90836 non-null  float64\n",
      " 3   est_diameter_max    90836 non-null  float64\n",
      " 4   relative_velocity   90836 non-null  float64\n",
      " 5   miss_distance       90836 non-null  float64\n",
      " 6   orbiting_body       90836 non-null  object \n",
      " 7   sentry_object       90836 non-null  bool   \n",
      " 8   absolute_magnitude  90836 non-null  float64\n",
      " 9   hazardous           90836 non-null  bool   \n",
      "dtypes: bool(2), float64(5), int64(1), object(2)\n",
      "memory usage: 5.7+ MB\n"
     ]
    }
   ],
   "source": [
    "Ast_data.info()"
   ]
  },
  {
   "cell_type": "code",
   "execution_count": 6,
   "id": "28803bde",
   "metadata": {},
   "outputs": [
    {
     "data": {
      "text/plain": [
       "id                    0\n",
       "name                  0\n",
       "est_diameter_min      0\n",
       "est_diameter_max      0\n",
       "relative_velocity     0\n",
       "miss_distance         0\n",
       "orbiting_body         0\n",
       "sentry_object         0\n",
       "absolute_magnitude    0\n",
       "hazardous             0\n",
       "dtype: int64"
      ]
     },
     "execution_count": 6,
     "metadata": {},
     "output_type": "execute_result"
    }
   ],
   "source": [
    "Ast_data.isnull().sum()"
   ]
  },
  {
   "cell_type": "code",
   "execution_count": 7,
   "id": "d319927e",
   "metadata": {},
   "outputs": [
    {
     "data": {
      "text/html": [
       "<div>\n",
       "<style scoped>\n",
       "    .dataframe tbody tr th:only-of-type {\n",
       "        vertical-align: middle;\n",
       "    }\n",
       "\n",
       "    .dataframe tbody tr th {\n",
       "        vertical-align: top;\n",
       "    }\n",
       "\n",
       "    .dataframe thead th {\n",
       "        text-align: right;\n",
       "    }\n",
       "</style>\n",
       "<table border=\"1\" class=\"dataframe\">\n",
       "  <thead>\n",
       "    <tr style=\"text-align: right;\">\n",
       "      <th></th>\n",
       "      <th>id</th>\n",
       "      <th>name</th>\n",
       "      <th>est_diameter_min</th>\n",
       "      <th>est_diameter_max</th>\n",
       "      <th>relative_velocity</th>\n",
       "      <th>miss_distance</th>\n",
       "      <th>orbiting_body</th>\n",
       "      <th>sentry_object</th>\n",
       "      <th>absolute_magnitude</th>\n",
       "      <th>hazardous</th>\n",
       "    </tr>\n",
       "  </thead>\n",
       "  <tbody>\n",
       "  </tbody>\n",
       "</table>\n",
       "</div>"
      ],
      "text/plain": [
       "Empty DataFrame\n",
       "Columns: [id, name, est_diameter_min, est_diameter_max, relative_velocity, miss_distance, orbiting_body, sentry_object, absolute_magnitude, hazardous]\n",
       "Index: []"
      ]
     },
     "execution_count": 7,
     "metadata": {},
     "output_type": "execute_result"
    }
   ],
   "source": [
    "# Displaying Duplicate values with in dataset\n",
    "\n",
    "BMCdata_dup = Ast_data[Ast_data.duplicated(keep='last')]\n",
    "BMCdata_dup"
   ]
  },
  {
   "cell_type": "code",
   "execution_count": 8,
   "id": "0cb1d7f5",
   "metadata": {},
   "outputs": [],
   "source": [
    "# Use LabelEncoder to handle categorical data\n",
    "\n",
    "from sklearn.preprocessing import LabelEncoder\n",
    "\n",
    "LE = LabelEncoder()\n",
    "\n",
    "Ast_data['name'] = LE.fit_transform(Ast_data[['name']])"
   ]
  },
  {
   "cell_type": "code",
   "execution_count": 9,
   "id": "9fa03de8",
   "metadata": {},
   "outputs": [
    {
     "name": "stdout",
     "output_type": "stream",
     "text": [
      "<class 'pandas.core.frame.DataFrame'>\n",
      "RangeIndex: 90836 entries, 0 to 90835\n",
      "Data columns (total 10 columns):\n",
      " #   Column              Non-Null Count  Dtype  \n",
      "---  ------              --------------  -----  \n",
      " 0   id                  90836 non-null  int64  \n",
      " 1   name                90836 non-null  int32  \n",
      " 2   est_diameter_min    90836 non-null  float64\n",
      " 3   est_diameter_max    90836 non-null  float64\n",
      " 4   relative_velocity   90836 non-null  float64\n",
      " 5   miss_distance       90836 non-null  float64\n",
      " 6   orbiting_body       90836 non-null  object \n",
      " 7   sentry_object       90836 non-null  bool   \n",
      " 8   absolute_magnitude  90836 non-null  float64\n",
      " 9   hazardous           90836 non-null  bool   \n",
      "dtypes: bool(2), float64(5), int32(1), int64(1), object(1)\n",
      "memory usage: 5.4+ MB\n"
     ]
    }
   ],
   "source": [
    "Ast_data.info()"
   ]
  },
  {
   "cell_type": "code",
   "execution_count": 10,
   "id": "07d40d74",
   "metadata": {},
   "outputs": [],
   "source": [
    "del Ast_data['orbiting_body']"
   ]
  },
  {
   "cell_type": "code",
   "execution_count": 11,
   "id": "9e115d0a",
   "metadata": {},
   "outputs": [
    {
     "data": {
      "text/html": [
       "<div>\n",
       "<style scoped>\n",
       "    .dataframe tbody tr th:only-of-type {\n",
       "        vertical-align: middle;\n",
       "    }\n",
       "\n",
       "    .dataframe tbody tr th {\n",
       "        vertical-align: top;\n",
       "    }\n",
       "\n",
       "    .dataframe thead th {\n",
       "        text-align: right;\n",
       "    }\n",
       "</style>\n",
       "<table border=\"1\" class=\"dataframe\">\n",
       "  <thead>\n",
       "    <tr style=\"text-align: right;\">\n",
       "      <th></th>\n",
       "      <th>id</th>\n",
       "      <th>name</th>\n",
       "      <th>est_diameter_min</th>\n",
       "      <th>est_diameter_max</th>\n",
       "      <th>relative_velocity</th>\n",
       "      <th>miss_distance</th>\n",
       "      <th>sentry_object</th>\n",
       "      <th>absolute_magnitude</th>\n",
       "      <th>hazardous</th>\n",
       "    </tr>\n",
       "  </thead>\n",
       "  <tbody>\n",
       "    <tr>\n",
       "      <th>0</th>\n",
       "      <td>2162635</td>\n",
       "      <td>24991</td>\n",
       "      <td>1.198271</td>\n",
       "      <td>2.679415</td>\n",
       "      <td>13569.24922</td>\n",
       "      <td>54839744.08</td>\n",
       "      <td>False</td>\n",
       "      <td>16.73</td>\n",
       "      <td>False</td>\n",
       "    </tr>\n",
       "    <tr>\n",
       "      <th>1</th>\n",
       "      <td>2277475</td>\n",
       "      <td>25414</td>\n",
       "      <td>0.265800</td>\n",
       "      <td>0.594347</td>\n",
       "      <td>73588.72666</td>\n",
       "      <td>61438126.52</td>\n",
       "      <td>False</td>\n",
       "      <td>20.00</td>\n",
       "      <td>True</td>\n",
       "    </tr>\n",
       "    <tr>\n",
       "      <th>2</th>\n",
       "      <td>2512244</td>\n",
       "      <td>26799</td>\n",
       "      <td>0.722030</td>\n",
       "      <td>1.614507</td>\n",
       "      <td>114258.69210</td>\n",
       "      <td>49798724.94</td>\n",
       "      <td>False</td>\n",
       "      <td>17.83</td>\n",
       "      <td>False</td>\n",
       "    </tr>\n",
       "    <tr>\n",
       "      <th>3</th>\n",
       "      <td>3596030</td>\n",
       "      <td>5505</td>\n",
       "      <td>0.096506</td>\n",
       "      <td>0.215794</td>\n",
       "      <td>24764.30314</td>\n",
       "      <td>25434972.72</td>\n",
       "      <td>False</td>\n",
       "      <td>22.20</td>\n",
       "      <td>False</td>\n",
       "    </tr>\n",
       "    <tr>\n",
       "      <th>4</th>\n",
       "      <td>3667127</td>\n",
       "      <td>7518</td>\n",
       "      <td>0.255009</td>\n",
       "      <td>0.570217</td>\n",
       "      <td>42737.73376</td>\n",
       "      <td>46275567.00</td>\n",
       "      <td>False</td>\n",
       "      <td>20.09</td>\n",
       "      <td>True</td>\n",
       "    </tr>\n",
       "  </tbody>\n",
       "</table>\n",
       "</div>"
      ],
      "text/plain": [
       "        id   name  est_diameter_min  est_diameter_max  relative_velocity  \\\n",
       "0  2162635  24991          1.198271          2.679415        13569.24922   \n",
       "1  2277475  25414          0.265800          0.594347        73588.72666   \n",
       "2  2512244  26799          0.722030          1.614507       114258.69210   \n",
       "3  3596030   5505          0.096506          0.215794        24764.30314   \n",
       "4  3667127   7518          0.255009          0.570217        42737.73376   \n",
       "\n",
       "   miss_distance  sentry_object  absolute_magnitude  hazardous  \n",
       "0    54839744.08          False               16.73      False  \n",
       "1    61438126.52          False               20.00       True  \n",
       "2    49798724.94          False               17.83      False  \n",
       "3    25434972.72          False               22.20      False  \n",
       "4    46275567.00          False               20.09       True  "
      ]
     },
     "execution_count": 11,
     "metadata": {},
     "output_type": "execute_result"
    }
   ],
   "source": [
    "Ast_data.head()"
   ]
  },
  {
   "cell_type": "code",
   "execution_count": 12,
   "id": "7a3d8bb1",
   "metadata": {},
   "outputs": [
    {
     "name": "stdout",
     "output_type": "stream",
     "text": [
      "2469219    43\n",
      "2277810    43\n",
      "3743123    40\n",
      "2138175    39\n",
      "3893865    38\n",
      "           ..\n",
      "3768019     1\n",
      "3774692     1\n",
      "3779049     1\n",
      "3775040     1\n",
      "3092229     1\n",
      "Name: id, Length: 27423, dtype: int64\n",
      "26436    43\n",
      "25418    43\n",
      "10200    40\n",
      "24768    39\n",
      "17743    38\n",
      "         ..\n",
      "12017     1\n",
      "12511     1\n",
      "12672     1\n",
      "12514     1\n",
      "96        1\n",
      "Name: name, Length: 27423, dtype: int64\n",
      "0.035039    1130\n",
      "0.029144    1058\n",
      "0.023150     995\n",
      "0.031956     988\n",
      "0.022108     977\n",
      "            ... \n",
      "0.008912       1\n",
      "1.623884       1\n",
      "0.108882       1\n",
      "0.059587       1\n",
      "0.109133       1\n",
      "Name: est_diameter_min, Length: 1638, dtype: int64\n",
      "0.078350    1130\n",
      "0.065169    1058\n",
      "0.051765     995\n",
      "0.071456     988\n",
      "0.049436     977\n",
      "            ... \n",
      "0.019927       1\n",
      "3.631115       1\n",
      "0.243467       1\n",
      "0.133242       1\n",
      "0.244028       1\n",
      "Name: est_diameter_max, Length: 1638, dtype: int64\n",
      "28603.59041     2\n",
      "101704.47440    2\n",
      "17941.55425     2\n",
      "46304.12573     2\n",
      "66082.37374     2\n",
      "               ..\n",
      "67452.93222     1\n",
      "108011.89560    1\n",
      "56132.12458     1\n",
      "82550.99124     1\n",
      "27024.45555     1\n",
      "Name: relative_velocity, Length: 90785, dtype: int64\n",
      "5.603158e+07    2\n",
      "7.001952e+07    2\n",
      "4.926247e+07    2\n",
      "9.079336e+06    2\n",
      "5.178607e+07    2\n",
      "               ..\n",
      "4.460245e+07    1\n",
      "3.311994e+07    1\n",
      "2.283126e+07    1\n",
      "3.238010e+07    1\n",
      "5.977213e+07    1\n",
      "Name: miss_distance, Length: 90536, dtype: int64\n",
      "False    90836\n",
      "Name: sentry_object, dtype: int64\n",
      "24.400    1130\n",
      "24.800    1058\n",
      "25.300     995\n",
      "24.600     988\n",
      "25.400     977\n",
      "          ... \n",
      "27.373       1\n",
      "16.070       1\n",
      "21.938       1\n",
      "23.247       1\n",
      "21.933       1\n",
      "Name: absolute_magnitude, Length: 1638, dtype: int64\n",
      "False    81996\n",
      "True      8840\n",
      "Name: hazardous, dtype: int64\n"
     ]
    }
   ],
   "source": [
    "# Display the data by variables wise\n",
    "\n",
    "for i in Ast_data.columns:\n",
    "    print(Ast_data[i].value_counts())"
   ]
  },
  {
   "cell_type": "code",
   "execution_count": 13,
   "id": "4b527360",
   "metadata": {},
   "outputs": [
    {
     "data": {
      "text/plain": [
       "id                    27423\n",
       "name                  27423\n",
       "est_diameter_min       1638\n",
       "est_diameter_max       1638\n",
       "relative_velocity     90785\n",
       "miss_distance         90536\n",
       "sentry_object             1\n",
       "absolute_magnitude     1638\n",
       "hazardous                 2\n",
       "dtype: int64"
      ]
     },
     "execution_count": 13,
     "metadata": {},
     "output_type": "execute_result"
    }
   ],
   "source": [
    "# Display unique values counts for each variable\n",
    "\n",
    "Ast_data.nunique()"
   ]
  },
  {
   "cell_type": "code",
   "execution_count": 14,
   "id": "c103d2ca",
   "metadata": {},
   "outputs": [],
   "source": [
    "# Use LabelBinarizer for target variables\n",
    "\n",
    "from sklearn.preprocessing import LabelBinarizer\n",
    "\n",
    "LB = LabelBinarizer()\n",
    "\n",
    "Ast_data['sentry_object'] = LB.fit_transform(Ast_data['sentry_object'])\n",
    "Ast_data['hazardous'] = LB.fit_transform(Ast_data['hazardous'])"
   ]
  },
  {
   "cell_type": "code",
   "execution_count": 15,
   "id": "8638547f",
   "metadata": {},
   "outputs": [
    {
     "name": "stdout",
     "output_type": "stream",
     "text": [
      "<class 'pandas.core.frame.DataFrame'>\n",
      "RangeIndex: 90836 entries, 0 to 90835\n",
      "Data columns (total 9 columns):\n",
      " #   Column              Non-Null Count  Dtype  \n",
      "---  ------              --------------  -----  \n",
      " 0   id                  90836 non-null  int64  \n",
      " 1   name                90836 non-null  int32  \n",
      " 2   est_diameter_min    90836 non-null  float64\n",
      " 3   est_diameter_max    90836 non-null  float64\n",
      " 4   relative_velocity   90836 non-null  float64\n",
      " 5   miss_distance       90836 non-null  float64\n",
      " 6   sentry_object       90836 non-null  int32  \n",
      " 7   absolute_magnitude  90836 non-null  float64\n",
      " 8   hazardous           90836 non-null  int32  \n",
      "dtypes: float64(5), int32(3), int64(1)\n",
      "memory usage: 5.2 MB\n"
     ]
    }
   ],
   "source": [
    "Ast_data.info()"
   ]
  },
  {
   "cell_type": "code",
   "execution_count": 16,
   "id": "b85ae466",
   "metadata": {},
   "outputs": [
    {
     "data": {
      "text/plain": [
       "0    81996\n",
       "1     8840\n",
       "Name: hazardous, dtype: int64"
      ]
     },
     "execution_count": 16,
     "metadata": {},
     "output_type": "execute_result"
    }
   ],
   "source": [
    "Ast_data['hazardous'].value_counts(sort=False)"
   ]
  },
  {
   "cell_type": "code",
   "execution_count": 17,
   "id": "17a4b182",
   "metadata": {},
   "outputs": [
    {
     "name": "stdout",
     "output_type": "stream",
     "text": [
      "Class 0: 81996\n",
      "Class 1: 8840\n",
      "Proportion: 9.28 : 1\n",
      "Total CC Trans: 90836\n"
     ]
    }
   ],
   "source": [
    "# Count the target or dependent variable by '0' & '1' and \n",
    "# their proportion (> 10 : 1, then the dataset is imbalance dataset)\n",
    "\n",
    "BMCdata_count = Ast_data.hazardous.value_counts()\n",
    "print('Class 0:', BMCdata_count[0])\n",
    "print('Class 1:', BMCdata_count[1])\n",
    "print('Proportion:', round(BMCdata_count[0] / BMCdata_count[1], 2), ': 1')\n",
    "print('Total CC Trans:', len(Ast_data))"
   ]
  },
  {
   "cell_type": "code",
   "execution_count": 18,
   "id": "7c205436",
   "metadata": {},
   "outputs": [],
   "source": [
    "# Identify the independent and Target variables\n",
    "\n",
    "IndepVar = []\n",
    "for col in Ast_data.columns:\n",
    "    if col != 'hazardous':\n",
    "        IndepVar.append(col)\n",
    "\n",
    "TargetVar ='hazardous'\n",
    "\n",
    "x = Ast_data[IndepVar]\n",
    "y = Ast_data[TargetVar]"
   ]
  },
  {
   "cell_type": "code",
   "execution_count": 19,
   "id": "706ce27a",
   "metadata": {},
   "outputs": [
    {
     "data": {
      "text/plain": [
       "((63585, 8), (27251, 8), (63585,), (27251,))"
      ]
     },
     "execution_count": 19,
     "metadata": {},
     "output_type": "execute_result"
    }
   ],
   "source": [
    "# Split the data into train and test (random sampling)\n",
    "\n",
    "from sklearn.model_selection import train_test_split \n",
    "\n",
    "x_train, x_test, y_train, y_test = train_test_split(x, y, test_size=0.3, random_state=42)\n",
    "x_train.shape, x_test.shape, y_train.shape, y_test.shape\n"
   ]
  },
  {
   "cell_type": "code",
   "execution_count": 20,
   "id": "de2d10f9",
   "metadata": {},
   "outputs": [
    {
     "name": "stdout",
     "output_type": "stream",
     "text": [
      "<class 'pandas.core.frame.DataFrame'>\n",
      "RangeIndex: 90836 entries, 0 to 90835\n",
      "Data columns (total 9 columns):\n",
      " #   Column              Non-Null Count  Dtype  \n",
      "---  ------              --------------  -----  \n",
      " 0   id                  90836 non-null  int64  \n",
      " 1   name                90836 non-null  int32  \n",
      " 2   est_diameter_min    90836 non-null  float64\n",
      " 3   est_diameter_max    90836 non-null  float64\n",
      " 4   relative_velocity   90836 non-null  float64\n",
      " 5   miss_distance       90836 non-null  float64\n",
      " 6   sentry_object       90836 non-null  int32  \n",
      " 7   absolute_magnitude  90836 non-null  float64\n",
      " 8   hazardous           90836 non-null  int32  \n",
      "dtypes: float64(5), int32(3), int64(1)\n",
      "memory usage: 5.2 MB\n"
     ]
    }
   ],
   "source": [
    "Ast_data.info()"
   ]
  },
  {
   "cell_type": "code",
   "execution_count": 21,
   "id": "12bfd67b",
   "metadata": {},
   "outputs": [],
   "source": [
    "cols=['id','name','est_diameter_min','est_diameter_max','relative_velocity','miss_distance','sentry_object','absolute_magnitude']"
   ]
  },
  {
   "cell_type": "code",
   "execution_count": 22,
   "id": "add6f5ff",
   "metadata": {},
   "outputs": [],
   "source": [
    "# Scaling the features by using MinMaxScaler\n",
    "\n",
    "from sklearn.preprocessing import MinMaxScaler\n",
    "\n",
    "mmscaler = MinMaxScaler(feature_range=(0, 1))\n",
    "\n",
    "x_train[cols] = mmscaler.fit_transform(x_train[cols])\n",
    "x_train = pd.DataFrame(x_train)\n",
    "\n",
    "x_test[cols] = mmscaler.fit_transform(x_test[cols])\n",
    "x_test = pd.DataFrame(x_test)"
   ]
  },
  {
   "cell_type": "code",
   "execution_count": 23,
   "id": "f65e1e3c",
   "metadata": {},
   "outputs": [
    {
     "data": {
      "text/html": [
       "<div>\n",
       "<style scoped>\n",
       "    .dataframe tbody tr th:only-of-type {\n",
       "        vertical-align: middle;\n",
       "    }\n",
       "\n",
       "    .dataframe tbody tr th {\n",
       "        vertical-align: top;\n",
       "    }\n",
       "\n",
       "    .dataframe thead th {\n",
       "        text-align: right;\n",
       "    }\n",
       "</style>\n",
       "<table border=\"1\" class=\"dataframe\">\n",
       "  <thead>\n",
       "    <tr style=\"text-align: right;\">\n",
       "      <th></th>\n",
       "      <th>Model Name</th>\n",
       "      <th>True_Positive</th>\n",
       "      <th>False_Negative</th>\n",
       "      <th>False_Positive</th>\n",
       "      <th>True_Negative</th>\n",
       "      <th>Accuracy</th>\n",
       "      <th>Precision</th>\n",
       "      <th>Recall</th>\n",
       "      <th>F1 Score</th>\n",
       "      <th>Specificity</th>\n",
       "      <th>MCC</th>\n",
       "      <th>ROC_AUC_Score</th>\n",
       "      <th>Balanced Accuracy</th>\n",
       "    </tr>\n",
       "  </thead>\n",
       "  <tbody>\n",
       "  </tbody>\n",
       "</table>\n",
       "</div>"
      ],
      "text/plain": [
       "Empty DataFrame\n",
       "Columns: [Model Name, True_Positive, False_Negative, False_Positive, True_Negative, Accuracy, Precision, Recall, F1 Score, Specificity, MCC, ROC_AUC_Score, Balanced Accuracy]\n",
       "Index: []"
      ]
     },
     "execution_count": 23,
     "metadata": {},
     "output_type": "execute_result"
    }
   ],
   "source": [
    "# Load the Hyperparameter tunining result dataset\n",
    "\n",
    "Results = pd.read_csv(r\"HTResults .csv\", header=0)\n",
    "Results.head()"
   ]
  },
  {
   "cell_type": "code",
   "execution_count": 24,
   "id": "d41b24cc",
   "metadata": {},
   "outputs": [
    {
     "name": "stdout",
     "output_type": "stream",
     "text": [
      "Requirement already satisfied: lightgbm in c:\\users\\varsha sri\\anaconda3\\lib\\site-packages (3.3.2)\n",
      "Requirement already satisfied: wheel in c:\\users\\varsha sri\\anaconda3\\lib\\site-packages (from lightgbm) (0.37.1)\n",
      "Requirement already satisfied: scipy in c:\\users\\varsha sri\\anaconda3\\lib\\site-packages (from lightgbm) (1.7.3)\n",
      "Requirement already satisfied: scikit-learn!=0.22.0 in c:\\users\\varsha sri\\anaconda3\\lib\\site-packages (from lightgbm) (1.0.2)\n",
      "Requirement already satisfied: numpy in c:\\users\\varsha sri\\anaconda3\\lib\\site-packages (from lightgbm) (1.21.5)\n",
      "Requirement already satisfied: joblib>=0.11 in c:\\users\\varsha sri\\anaconda3\\lib\\site-packages (from scikit-learn!=0.22.0->lightgbm) (1.1.0)\n",
      "Requirement already satisfied: threadpoolctl>=2.0.0 in c:\\users\\varsha sri\\anaconda3\\lib\\site-packages (from scikit-learn!=0.22.0->lightgbm) (2.2.0)\n",
      "Note: you may need to restart the kernel to use updated packages.\n"
     ]
    }
   ],
   "source": [
    "pip install lightgbm"
   ]
  },
  {
   "cell_type": "code",
   "execution_count": 25,
   "id": "0260a62a",
   "metadata": {},
   "outputs": [
    {
     "name": "stdout",
     "output_type": "stream",
     "text": [
      "Model Name:  LogisticRegression()\n",
      "Confusion matrix : \n",
      " [[  306  2348]\n",
      " [  546 24051]]\n",
      "Outcome values : \n",
      " 306 2348 546 24051\n",
      "Classification report : \n",
      "               precision    recall  f1-score   support\n",
      "\n",
      "           1       0.36      0.12      0.17      2654\n",
      "           0       0.91      0.98      0.94     24597\n",
      "\n",
      "    accuracy                           0.89     27251\n",
      "   macro avg       0.64      0.55      0.56     27251\n",
      "weighted avg       0.86      0.89      0.87     27251\n",
      "\n",
      "Accuracy : 89.4 %\n",
      "Precision : 35.9 %\n",
      "Recall : 11.5 %\n",
      "F1 Score : 0.175\n",
      "Specificity or True Negative Rate : 97.8 %\n",
      "Balanced Accuracy : 54.6 %\n",
      "MCC : 0.159\n",
      "roc_auc_score: 0.547\n"
     ]
    },
    {
     "data": {
      "image/png": "[encoded data removed]",
      "text/plain": [
       "<Figure size 432x288 with 1 Axes>"
      ]
     },
     "metadata": {
      "needs_background": "light"
     },
     "output_type": "display_data"
    },
    {
     "name": "stdout",
     "output_type": "stream",
     "text": [
      "-----------------------------------------------------------------------------------------------------\n",
      "Model Name:  DecisionTreeClassifier()\n",
      "Confusion matrix : \n",
      " [[ 1166  1488]\n",
      " [ 2608 21989]]\n",
      "Outcome values : \n",
      " 1166 1488 2608 21989\n",
      "Classification report : \n",
      "               precision    recall  f1-score   support\n",
      "\n",
      "           1       0.31      0.44      0.36      2654\n",
      "           0       0.94      0.89      0.91     24597\n",
      "\n",
      "    accuracy                           0.85     27251\n",
      "   macro avg       0.62      0.67      0.64     27251\n",
      "weighted avg       0.88      0.85      0.86     27251\n",
      "\n",
      "Accuracy : 85.0 %\n",
      "Precision : 30.9 %\n",
      "Recall : 43.9 %\n",
      "F1 Score : 0.363\n",
      "Specificity or True Negative Rate : 89.4 %\n",
      "Balanced Accuracy : 66.6 %\n",
      "MCC : 0.286\n",
      "roc_auc_score: 0.667\n"
     ]
    },
    {
     "data": {
      "image/png": "[encoded data removed]",
      "text/plain": [
       "<Figure size 432x288 with 1 Axes>"
      ]
     },
     "metadata": {
      "needs_background": "light"
     },
     "output_type": "display_data"
    },
    {
     "name": "stdout",
     "output_type": "stream",
     "text": [
      "-----------------------------------------------------------------------------------------------------\n",
      "Model Name:  RandomForestClassifier()\n",
      "Confusion matrix : \n",
      " [[  734  1920]\n",
      " [  763 23834]]\n",
      "Outcome values : \n",
      " 734 1920 763 23834\n",
      "Classification report : \n",
      "               precision    recall  f1-score   support\n",
      "\n",
      "           1       0.49      0.28      0.35      2654\n",
      "           0       0.93      0.97      0.95     24597\n",
      "\n",
      "    accuracy                           0.90     27251\n",
      "   macro avg       0.71      0.62      0.65     27251\n",
      "weighted avg       0.88      0.90      0.89     27251\n",
      "\n",
      "Accuracy : 90.2 %\n",
      "Precision : 49.0 %\n",
      "Recall : 27.7 %\n",
      "F1 Score : 0.354\n",
      "Specificity or True Negative Rate : 96.9 %\n",
      "Balanced Accuracy : 62.3 %\n",
      "MCC : 0.32\n",
      "roc_auc_score: 0.623\n"
     ]
    },
    {
     "data": {
      "image/png": "[encoded data removed]",
      "text/plain": [
       "<Figure size 432x288 with 1 Axes>"
      ]
     },
     "metadata": {
      "needs_background": "light"
     },
     "output_type": "display_data"
    },
    {
     "name": "stdout",
     "output_type": "stream",
     "text": [
      "-----------------------------------------------------------------------------------------------------\n",
      "Model Name:  ExtraTreesClassifier()\n",
      "Confusion matrix : \n",
      " [[  544  2110]\n",
      " [  416 24181]]\n",
      "Outcome values : \n",
      " 544 2110 416 24181\n",
      "Classification report : \n",
      "               precision    recall  f1-score   support\n",
      "\n",
      "           1       0.57      0.20      0.30      2654\n",
      "           0       0.92      0.98      0.95     24597\n",
      "\n",
      "    accuracy                           0.91     27251\n",
      "   macro avg       0.74      0.59      0.63     27251\n",
      "weighted avg       0.89      0.91      0.89     27251\n",
      "\n",
      "Accuracy : 90.7 %\n",
      "Precision : 56.7 %\n",
      "Recall : 20.5 %\n",
      "F1 Score : 0.301\n",
      "Specificity or True Negative Rate : 98.3 %\n",
      "Balanced Accuracy : 59.4 %\n",
      "MCC : 0.302\n",
      "roc_auc_score: 0.594\n"
     ]
    },
    {
     "data": {
      "image/png": "[encoded data removed]",
      "text/plain": [
       "<Figure size 432x288 with 1 Axes>"
      ]
     },
     "metadata": {
      "needs_background": "light"
     },
     "output_type": "display_data"
    },
    {
     "name": "stdout",
     "output_type": "stream",
     "text": [
      "-----------------------------------------------------------------------------------------------------\n",
      "Model Name:  KNeighborsClassifier()\n",
      "Confusion matrix : \n",
      " [[  807  1847]\n",
      " [  941 23656]]\n",
      "Outcome values : \n",
      " 807 1847 941 23656\n",
      "Classification report : \n",
      "               precision    recall  f1-score   support\n",
      "\n",
      "           1       0.46      0.30      0.37      2654\n",
      "           0       0.93      0.96      0.94     24597\n",
      "\n",
      "    accuracy                           0.90     27251\n",
      "   macro avg       0.69      0.63      0.66     27251\n",
      "weighted avg       0.88      0.90      0.89     27251\n",
      "\n",
      "Accuracy : 89.8 %\n",
      "Precision : 46.2 %\n",
      "Recall : 30.4 %\n",
      "F1 Score : 0.367\n",
      "Specificity or True Negative Rate : 96.2 %\n",
      "Balanced Accuracy : 63.3 %\n",
      "MCC : 0.322\n",
      "roc_auc_score: 0.633\n"
     ]
    },
    {
     "data": {
      "image/png": "[encoded data removed]",
      "text/plain": [
       "<Figure size 432x288 with 1 Axes>"
      ]
     },
     "metadata": {
      "needs_background": "light"
     },
     "output_type": "display_data"
    },
    {
     "name": "stdout",
     "output_type": "stream",
     "text": [
      "-----------------------------------------------------------------------------------------------------\n",
      "Model Name:  SVC(probability=True)\n",
      "Confusion matrix : \n",
      " [[  185  2469]\n",
      " [   73 24524]]\n",
      "Outcome values : \n",
      " 185 2469 73 24524\n",
      "Classification report : \n",
      "               precision    recall  f1-score   support\n",
      "\n",
      "           1       0.72      0.07      0.13      2654\n",
      "           0       0.91      1.00      0.95     24597\n",
      "\n",
      "    accuracy                           0.91     27251\n",
      "   macro avg       0.81      0.53      0.54     27251\n",
      "weighted avg       0.89      0.91      0.87     27251\n",
      "\n",
      "Accuracy : 90.7 %\n",
      "Precision : 71.7 %\n",
      "Recall : 7.0 %\n",
      "F1 Score : 0.127\n",
      "Specificity or True Negative Rate : 99.7 %\n",
      "Balanced Accuracy : 53.4 %\n",
      "MCC : 0.204\n",
      "roc_auc_score: 0.533\n"
     ]
    },
    {
     "data": {
      "image/png": "[encoded data removed]",
      "text/plain": [
       "<Figure size 432x288 with 1 Axes>"
      ]
     },
     "metadata": {
      "needs_background": "light"
     },
     "output_type": "display_data"
    },
    {
     "name": "stdout",
     "output_type": "stream",
     "text": [
      "-----------------------------------------------------------------------------------------------------\n",
      "Model Name:  BaggingClassifier(n_estimators=100)\n",
      "Confusion matrix : \n",
      " [[  772  1882]\n",
      " [  781 23816]]\n",
      "Outcome values : \n",
      " 772 1882 781 23816\n",
      "Classification report : \n",
      "               precision    recall  f1-score   support\n",
      "\n",
      "           1       0.50      0.29      0.37      2654\n",
      "           0       0.93      0.97      0.95     24597\n",
      "\n",
      "    accuracy                           0.90     27251\n",
      "   macro avg       0.71      0.63      0.66     27251\n",
      "weighted avg       0.88      0.90      0.89     27251\n",
      "\n",
      "Accuracy : 90.2 %\n",
      "Precision : 49.7 %\n",
      "Recall : 29.1 %\n",
      "F1 Score : 0.367\n",
      "Specificity or True Negative Rate : 96.8 %\n",
      "Balanced Accuracy : 63.0 %\n",
      "MCC : 0.331\n",
      "roc_auc_score: 0.63\n"
     ]
    },
    {
     "data": {
      "image/png": "[encoded data removed]",
      "text/plain": [
       "<Figure size 432x288 with 1 Axes>"
      ]
     },
     "metadata": {
      "needs_background": "light"
     },
     "output_type": "display_data"
    },
    {
     "name": "stdout",
     "output_type": "stream",
     "text": [
      "-----------------------------------------------------------------------------------------------------\n",
      "Model Name:  GradientBoostingClassifier()\n",
      "Confusion matrix : \n",
      " [[  488  2166]\n",
      " [  236 24361]]\n",
      "Outcome values : \n",
      " 488 2166 236 24361\n",
      "Classification report : \n",
      "               precision    recall  f1-score   support\n",
      "\n",
      "           1       0.67      0.18      0.29      2654\n",
      "           0       0.92      0.99      0.95     24597\n",
      "\n",
      "    accuracy                           0.91     27251\n",
      "   macro avg       0.80      0.59      0.62     27251\n",
      "weighted avg       0.89      0.91      0.89     27251\n",
      "\n",
      "Accuracy : 91.2 %\n",
      "Precision : 67.4 %\n",
      "Recall : 18.4 %\n",
      "F1 Score : 0.289\n",
      "Specificity or True Negative Rate : 99.0 %\n",
      "Balanced Accuracy : 58.7 %\n",
      "MCC : 0.321\n",
      "roc_auc_score: 0.587\n"
     ]
    },
    {
     "data": {
      "image/png": "[encoded data removed]",
      "text/plain": [
       "<Figure size 432x288 with 1 Axes>"
      ]
     },
     "metadata": {
      "needs_background": "light"
     },
     "output_type": "display_data"
    },
    {
     "name": "stdout",
     "output_type": "stream",
     "text": [
      "-----------------------------------------------------------------------------------------------------\n",
      "Model Name:  LGBMClassifier()\n",
      "Confusion matrix : \n",
      " [[  939  1715]\n",
      " [  946 23651]]\n",
      "Outcome values : \n",
      " 939 1715 946 23651\n",
      "Classification report : \n",
      "               precision    recall  f1-score   support\n",
      "\n",
      "           1       0.50      0.35      0.41      2654\n",
      "           0       0.93      0.96      0.95     24597\n",
      "\n",
      "    accuracy                           0.90     27251\n",
      "   macro avg       0.72      0.66      0.68     27251\n",
      "weighted avg       0.89      0.90      0.89     27251\n",
      "\n",
      "Accuracy : 90.2 %\n",
      "Precision : 49.8 %\n",
      "Recall : 35.4 %\n",
      "F1 Score : 0.414\n",
      "Specificity or True Negative Rate : 96.2 %\n",
      "Balanced Accuracy : 65.8 %\n",
      "MCC : 0.368\n",
      "roc_auc_score: 0.658\n"
     ]
    },
    {
     "data": {
      "image/png": "[encoded data removed]",
      "text/plain": [
       "<Figure size 432x288 with 1 Axes>"
      ]
     },
     "metadata": {
      "needs_background": "light"
     },
     "output_type": "display_data"
    },
    {
     "name": "stdout",
     "output_type": "stream",
     "text": [
      "-----------------------------------------------------------------------------------------------------\n",
      "Model Name:  GaussianNB()\n",
      "Confusion matrix : \n",
      " [[ 1914   740]\n",
      " [ 4233 20364]]\n",
      "Outcome values : \n",
      " 1914 740 4233 20364\n",
      "Classification report : \n",
      "               precision    recall  f1-score   support\n",
      "\n",
      "           1       0.31      0.72      0.43      2654\n",
      "           0       0.96      0.83      0.89     24597\n",
      "\n",
      "    accuracy                           0.82     27251\n",
      "   macro avg       0.64      0.77      0.66     27251\n",
      "weighted avg       0.90      0.82      0.85     27251\n",
      "\n",
      "Accuracy : 81.8 %\n",
      "Precision : 31.1 %\n",
      "Recall : 72.1 %\n",
      "F1 Score : 0.435\n",
      "Specificity or True Negative Rate : 82.8 %\n",
      "Balanced Accuracy : 77.4 %\n",
      "MCC : 0.39\n",
      "roc_auc_score: 0.775\n"
     ]
    },
    {
     "data": {
      "image/png": "[encoded data removed]",
      "text/plain": [
       "<Figure size 432x288 with 1 Axes>"
      ]
     },
     "metadata": {
      "needs_background": "light"
     },
     "output_type": "display_data"
    },
    {
     "name": "stdout",
     "output_type": "stream",
     "text": [
      "-----------------------------------------------------------------------------------------------------\n"
     ]
    }
   ],
   "source": [
    "# Build the Calssification models and compare the results\n",
    "\n",
    "from sklearn.linear_model import LogisticRegression\n",
    "from sklearn.tree import DecisionTreeClassifier\n",
    "from sklearn.ensemble import RandomForestClassifier\n",
    "from sklearn.ensemble import ExtraTreesClassifier\n",
    "from sklearn.neighbors import KNeighborsClassifier\n",
    "from sklearn.naive_bayes import GaussianNB\n",
    "from sklearn.svm import SVC\n",
    "from sklearn.ensemble import BaggingClassifier\n",
    "\n",
    "from sklearn.ensemble import GradientBoostingClassifier\n",
    "import lightgbm as lgb\n",
    "\n",
    "# Create objects of classification algorithm with default hyper-parameters\n",
    "\n",
    "ModelLR = LogisticRegression()\n",
    "ModelDC = DecisionTreeClassifier()\n",
    "ModelRF = RandomForestClassifier()\n",
    "ModelET = ExtraTreesClassifier()\n",
    "ModelKNN = KNeighborsClassifier(n_neighbors=5)\n",
    "ModelSVM = SVC(probability=True)\n",
    "\n",
    "modelBAG = BaggingClassifier(base_estimator=None, n_estimators=100, max_samples=1.0, max_features=1.0,\n",
    "                             bootstrap=True, bootstrap_features=False, oob_score=False, warm_start=False,\n",
    "                             n_jobs=None, random_state=None, verbose=0)\n",
    "\n",
    "ModelGB = GradientBoostingClassifier(loss='deviance', learning_rate=0.1, n_estimators=100, subsample=1.0, \n",
    "                                     criterion='friedman_mse', min_samples_split=2, min_samples_leaf=1, \n",
    "                                     min_weight_fraction_leaf=0.0, max_depth=3, min_impurity_decrease=0.0,\n",
    "                                      init=None, random_state=None,\n",
    "                                     max_features=None, verbose=0, max_leaf_nodes=None, warm_start=False,\n",
    "                                     validation_fraction=0.1, n_iter_no_change=None, tol=0.0001, ccp_alpha=0.0)\n",
    "ModelLGB = lgb.LGBMClassifier()\n",
    "ModelGNB = GaussianNB()\n",
    "\n",
    "# Evalution matrix for all the algorithms\n",
    "\n",
    "MM = [ModelLR, ModelDC, ModelRF, ModelET, ModelKNN, ModelSVM, modelBAG, ModelGB, ModelLGB, ModelGNB]\n",
    "for models in MM:\n",
    "    \n",
    "    # Fit the model\n",
    "    \n",
    "    models.fit(x_train, y_train)\n",
    "    \n",
    "    # Prediction\n",
    "    \n",
    "    y_pred = models.predict(x_test)\n",
    "    y_pred_prob = models.predict_proba(x_test)\n",
    "    \n",
    "    # Print the model name\n",
    "    \n",
    "    print('Model Name: ', models)\n",
    "    \n",
    "    # confusion matrix in sklearn\n",
    "\n",
    "    from sklearn.metrics import confusion_matrix\n",
    "    from sklearn.metrics import classification_report\n",
    "\n",
    "    # actual values\n",
    "\n",
    "    actual = y_test\n",
    "\n",
    "    # predicted values\n",
    "\n",
    "    predicted = y_pred\n",
    "\n",
    "    # confusion matrix\n",
    "\n",
    "    matrix = confusion_matrix(actual,predicted, labels=[1,0],sample_weight=None, normalize=None)\n",
    "    print('Confusion matrix : \\n', matrix)\n",
    "\n",
    "    # outcome values order in sklearn\n",
    "\n",
    "    tp, fn, fp, tn = confusion_matrix(actual,predicted,labels=[1,0]).reshape(-1)\n",
    "    print('Outcome values : \\n', tp, fn, fp, tn)\n",
    "\n",
    "    # classification report for precision, recall f1-score and accuracy\n",
    "\n",
    "    C_Report = classification_report(actual,predicted,labels=[1,0])\n",
    "\n",
    "    print('Classification report : \\n', C_Report)\n",
    "\n",
    "    # calculating the metrics\n",
    "\n",
    "    sensitivity = round(tp/(tp+fn), 3);\n",
    "    specificity = round(tn/(tn+fp), 3);\n",
    "    accuracy = round((tp+tn)/(tp+fp+tn+fn), 3);\n",
    "    balanced_accuracy = round((sensitivity+specificity)/2, 3);\n",
    "    \n",
    "    precision = round(tp/(tp+fp), 3);\n",
    "    f1Score = round((2*tp/(2*tp + fp + fn)), 3);\n",
    "\n",
    "    # Matthews Correlation Coefficient (MCC). Range of values of MCC lie between -1 to +1. \n",
    "    # A model with a score of +1 is a perfect model and -1 is a poor model\n",
    "\n",
    "    from math import sqrt\n",
    "\n",
    "    mx = (tp+fp) * (tp+fn) * (tn+fp) * (tn+fn)\n",
    "    MCC = round(((tp * tn) - (fp * fn)) / sqrt(mx), 3)\n",
    "\n",
    "    print('Accuracy :', round(accuracy*100, 2),'%')\n",
    "    print('Precision :', round(precision*100, 2),'%')\n",
    "    print('Recall :', round(sensitivity*100,2), '%')\n",
    "    print('F1 Score :', f1Score)\n",
    "    print('Specificity or True Negative Rate :', round(specificity*100,2), '%'  )\n",
    "    print('Balanced Accuracy :', round(balanced_accuracy*100, 2),'%')\n",
    "    print('MCC :', MCC)\n",
    "\n",
    "    # Area under ROC curve \n",
    "\n",
    "    from sklearn.metrics import roc_curve, roc_auc_score\n",
    "\n",
    "    print('roc_auc_score:', round(roc_auc_score(actual, predicted), 3))\n",
    "    \n",
    "    # ROC Curve\n",
    "    \n",
    "    from sklearn.metrics import roc_auc_score\n",
    "    from sklearn.metrics import roc_curve\n",
    "    logit_roc_auc = roc_auc_score(actual, predicted)\n",
    "    fpr, tpr, thresholds = roc_curve(actual, models.predict_proba(x_test)[:,1])\n",
    "    plt.figure()\n",
    "    # plt.plot(fpr, tpr, label='Logistic Regression (area = %0.2f)' % logit_roc_auc)\n",
    "    plt.plot(fpr, tpr, label= 'Classification Model' % logit_roc_auc)\n",
    "    plt.plot([0, 1], [0, 1],'r--')\n",
    "    plt.xlim([0.0, 1.0])\n",
    "    plt.ylim([0.0, 1.05])\n",
    "    plt.xlabel('False Positive Rate')\n",
    "    plt.ylabel('True Positive Rate')\n",
    "    plt.title('Receiver operating characteristic')\n",
    "    plt.legend(loc=\"lower right\")\n",
    "    plt.savefig('Log_ROC')\n",
    "    plt.show()\n",
    "    print('-----------------------------------------------------------------------------------------------------')\n",
    "    #----------------------------------------------------------------------------------------------------------\n",
    "    new_row = {'Model Name' : models,\n",
    "               'True_Positive' : tp, \n",
    "               'False_Negative' : fn, \n",
    "               'False_Positive' : fp,\n",
    "               'True_Negative' : tn,\n",
    "               'Accuracy' : accuracy,\n",
    "               'Precision' : precision,\n",
    "               'Recall' : sensitivity,\n",
    "               'F1 Score' : f1Score,\n",
    "               'Specificity' : specificity,\n",
    "               'MCC':MCC,\n",
    "               'ROC_AUC_Score':roc_auc_score(actual, predicted),\n",
    "               'Balanced Accuracy':balanced_accuracy}\n",
    "    Results = Results.append(new_row, ignore_index=True)"
   ]
  },
  {
   "cell_type": "code",
   "execution_count": 26,
   "id": "c976b8ce",
   "metadata": {},
   "outputs": [
    {
     "data": {
      "text/html": [
       "<div>\n",
       "<style scoped>\n",
       "    .dataframe tbody tr th:only-of-type {\n",
       "        vertical-align: middle;\n",
       "    }\n",
       "\n",
       "    .dataframe tbody tr th {\n",
       "        vertical-align: top;\n",
       "    }\n",
       "\n",
       "    .dataframe thead th {\n",
       "        text-align: right;\n",
       "    }\n",
       "</style>\n",
       "<table border=\"1\" class=\"dataframe\">\n",
       "  <thead>\n",
       "    <tr style=\"text-align: right;\">\n",
       "      <th></th>\n",
       "      <th>Model Name</th>\n",
       "      <th>True_Positive</th>\n",
       "      <th>False_Negative</th>\n",
       "      <th>False_Positive</th>\n",
       "      <th>True_Negative</th>\n",
       "      <th>Accuracy</th>\n",
       "      <th>Precision</th>\n",
       "      <th>Recall</th>\n",
       "      <th>F1 Score</th>\n",
       "      <th>Specificity</th>\n",
       "      <th>MCC</th>\n",
       "      <th>ROC_AUC_Score</th>\n",
       "      <th>Balanced Accuracy</th>\n",
       "    </tr>\n",
       "  </thead>\n",
       "  <tbody>\n",
       "    <tr>\n",
       "      <th>0</th>\n",
       "      <td>LogisticRegression()</td>\n",
       "      <td>306</td>\n",
       "      <td>2348</td>\n",
       "      <td>546</td>\n",
       "      <td>24051</td>\n",
       "      <td>0.894</td>\n",
       "      <td>0.359</td>\n",
       "      <td>0.115</td>\n",
       "      <td>0.175</td>\n",
       "      <td>0.978</td>\n",
       "      <td>0.159</td>\n",
       "      <td>0.54655</td>\n",
       "      <td>0.546</td>\n",
       "    </tr>\n",
       "    <tr>\n",
       "      <th>1</th>\n",
       "      <td>DecisionTreeClassifier()</td>\n",
       "      <td>1166</td>\n",
       "      <td>1488</td>\n",
       "      <td>2608</td>\n",
       "      <td>21989</td>\n",
       "      <td>0.85</td>\n",
       "      <td>0.309</td>\n",
       "      <td>0.439</td>\n",
       "      <td>0.363</td>\n",
       "      <td>0.894</td>\n",
       "      <td>0.286</td>\n",
       "      <td>0.666654</td>\n",
       "      <td>0.666</td>\n",
       "    </tr>\n",
       "    <tr>\n",
       "      <th>2</th>\n",
       "      <td>(DecisionTreeClassifier(max_features='auto', r...</td>\n",
       "      <td>734</td>\n",
       "      <td>1920</td>\n",
       "      <td>763</td>\n",
       "      <td>23834</td>\n",
       "      <td>0.902</td>\n",
       "      <td>0.49</td>\n",
       "      <td>0.277</td>\n",
       "      <td>0.354</td>\n",
       "      <td>0.969</td>\n",
       "      <td>0.32</td>\n",
       "      <td>0.622772</td>\n",
       "      <td>0.623</td>\n",
       "    </tr>\n",
       "    <tr>\n",
       "      <th>3</th>\n",
       "      <td>(ExtraTreeClassifier(random_state=1742103557),...</td>\n",
       "      <td>544</td>\n",
       "      <td>2110</td>\n",
       "      <td>416</td>\n",
       "      <td>24181</td>\n",
       "      <td>0.907</td>\n",
       "      <td>0.567</td>\n",
       "      <td>0.205</td>\n",
       "      <td>0.301</td>\n",
       "      <td>0.983</td>\n",
       "      <td>0.302</td>\n",
       "      <td>0.59403</td>\n",
       "      <td>0.594</td>\n",
       "    </tr>\n",
       "    <tr>\n",
       "      <th>4</th>\n",
       "      <td>KNeighborsClassifier()</td>\n",
       "      <td>807</td>\n",
       "      <td>1847</td>\n",
       "      <td>941</td>\n",
       "      <td>23656</td>\n",
       "      <td>0.898</td>\n",
       "      <td>0.462</td>\n",
       "      <td>0.304</td>\n",
       "      <td>0.367</td>\n",
       "      <td>0.962</td>\n",
       "      <td>0.322</td>\n",
       "      <td>0.632906</td>\n",
       "      <td>0.633</td>\n",
       "    </tr>\n",
       "    <tr>\n",
       "      <th>5</th>\n",
       "      <td>SVC(probability=True)</td>\n",
       "      <td>185</td>\n",
       "      <td>2469</td>\n",
       "      <td>73</td>\n",
       "      <td>24524</td>\n",
       "      <td>0.907</td>\n",
       "      <td>0.717</td>\n",
       "      <td>0.07</td>\n",
       "      <td>0.127</td>\n",
       "      <td>0.997</td>\n",
       "      <td>0.204</td>\n",
       "      <td>0.533369</td>\n",
       "      <td>0.534</td>\n",
       "    </tr>\n",
       "    <tr>\n",
       "      <th>6</th>\n",
       "      <td>(DecisionTreeClassifier(random_state=209959389...</td>\n",
       "      <td>772</td>\n",
       "      <td>1882</td>\n",
       "      <td>781</td>\n",
       "      <td>23816</td>\n",
       "      <td>0.902</td>\n",
       "      <td>0.497</td>\n",
       "      <td>0.291</td>\n",
       "      <td>0.367</td>\n",
       "      <td>0.968</td>\n",
       "      <td>0.331</td>\n",
       "      <td>0.629565</td>\n",
       "      <td>0.63</td>\n",
       "    </tr>\n",
       "    <tr>\n",
       "      <th>7</th>\n",
       "      <td>([DecisionTreeRegressor(criterion='friedman_ms...</td>\n",
       "      <td>488</td>\n",
       "      <td>2166</td>\n",
       "      <td>236</td>\n",
       "      <td>24361</td>\n",
       "      <td>0.912</td>\n",
       "      <td>0.674</td>\n",
       "      <td>0.184</td>\n",
       "      <td>0.289</td>\n",
       "      <td>0.99</td>\n",
       "      <td>0.321</td>\n",
       "      <td>0.587139</td>\n",
       "      <td>0.587</td>\n",
       "    </tr>\n",
       "    <tr>\n",
       "      <th>8</th>\n",
       "      <td>LGBMClassifier()</td>\n",
       "      <td>939</td>\n",
       "      <td>1715</td>\n",
       "      <td>946</td>\n",
       "      <td>23651</td>\n",
       "      <td>0.902</td>\n",
       "      <td>0.498</td>\n",
       "      <td>0.354</td>\n",
       "      <td>0.414</td>\n",
       "      <td>0.962</td>\n",
       "      <td>0.368</td>\n",
       "      <td>0.657673</td>\n",
       "      <td>0.658</td>\n",
       "    </tr>\n",
       "    <tr>\n",
       "      <th>9</th>\n",
       "      <td>GaussianNB()</td>\n",
       "      <td>1914</td>\n",
       "      <td>740</td>\n",
       "      <td>4233</td>\n",
       "      <td>20364</td>\n",
       "      <td>0.818</td>\n",
       "      <td>0.311</td>\n",
       "      <td>0.721</td>\n",
       "      <td>0.435</td>\n",
       "      <td>0.828</td>\n",
       "      <td>0.39</td>\n",
       "      <td>0.774541</td>\n",
       "      <td>0.774</td>\n",
       "    </tr>\n",
       "  </tbody>\n",
       "</table>\n",
       "</div>"
      ],
      "text/plain": [
       "                                          Model Name True_Positive  \\\n",
       "0                               LogisticRegression()           306   \n",
       "1                           DecisionTreeClassifier()          1166   \n",
       "2  (DecisionTreeClassifier(max_features='auto', r...           734   \n",
       "3  (ExtraTreeClassifier(random_state=1742103557),...           544   \n",
       "4                             KNeighborsClassifier()           807   \n",
       "5                              SVC(probability=True)           185   \n",
       "6  (DecisionTreeClassifier(random_state=209959389...           772   \n",
       "7  ([DecisionTreeRegressor(criterion='friedman_ms...           488   \n",
       "8                                   LGBMClassifier()           939   \n",
       "9                                       GaussianNB()          1914   \n",
       "\n",
       "  False_Negative False_Positive True_Negative Accuracy Precision Recall  \\\n",
       "0           2348            546         24051    0.894     0.359  0.115   \n",
       "1           1488           2608         21989     0.85     0.309  0.439   \n",
       "2           1920            763         23834    0.902      0.49  0.277   \n",
       "3           2110            416         24181    0.907     0.567  0.205   \n",
       "4           1847            941         23656    0.898     0.462  0.304   \n",
       "5           2469             73         24524    0.907     0.717   0.07   \n",
       "6           1882            781         23816    0.902     0.497  0.291   \n",
       "7           2166            236         24361    0.912     0.674  0.184   \n",
       "8           1715            946         23651    0.902     0.498  0.354   \n",
       "9            740           4233         20364    0.818     0.311  0.721   \n",
       "\n",
       "  F1 Score Specificity    MCC ROC_AUC_Score Balanced Accuracy  \n",
       "0    0.175       0.978  0.159       0.54655             0.546  \n",
       "1    0.363       0.894  0.286      0.666654             0.666  \n",
       "2    0.354       0.969   0.32      0.622772             0.623  \n",
       "3    0.301       0.983  0.302       0.59403             0.594  \n",
       "4    0.367       0.962  0.322      0.632906             0.633  \n",
       "5    0.127       0.997  0.204      0.533369             0.534  \n",
       "6    0.367       0.968  0.331      0.629565              0.63  \n",
       "7    0.289        0.99  0.321      0.587139             0.587  \n",
       "8    0.414       0.962  0.368      0.657673             0.658  \n",
       "9    0.435       0.828   0.39      0.774541             0.774  "
      ]
     },
     "execution_count": 26,
     "metadata": {},
     "output_type": "execute_result"
    }
   ],
   "source": [
    "# Results with comparing the all the algorithms \n",
    "\n",
    "Results"
   ]
  },
  {
   "cell_type": "code",
   "execution_count": null,
   "id": "bfaa8255",
   "metadata": {},
   "outputs": [],
   "source": []
  }
 ],
 "metadata": {
  "kernelspec": {
   "display_name": "Python 3 (ipykernel)",
   "language": "python",
   "name": "python3"
  },
  "language_info": {
   "codemirror_mode": {
    "name": "ipython",
    "version": 3
   },
   "file_extension": ".py",
   "mimetype": "text/x-python",
   "name": "python",
   "nbconvert_exporter": "python",
   "pygments_lexer": "ipython3",
   "version": "3.9.12"
  }
 },
 "nbformat": 4,
 "nbformat_minor": 5
}
